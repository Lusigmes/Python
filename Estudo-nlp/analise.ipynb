{
 "cells": [
  {
   "cell_type": "markdown",
   "metadata": {},
   "source": [
    "## ANÁLISE DE SATISFAÇÃO "
   ]
  },
  {
   "cell_type": "code",
   "execution_count": 1,
   "metadata": {},
   "outputs": [
    {
     "name": "stdout",
     "output_type": "stream",
     "text": [
      "Collecting streamlit\n",
      "  Downloading streamlit-1.32.0-py2.py3-none-any.whl.metadata (8.5 kB)\n",
      "Collecting altair<6,>=4.0 (from streamlit)\n",
      "  Downloading altair-5.2.0-py3-none-any.whl.metadata (8.7 kB)\n",
      "Requirement already satisfied: blinker<2,>=1.0.0 in c:\\users\\acer\\miniconda3\\lib\\site-packages (from streamlit) (1.7.0)\n",
      "Collecting cachetools<6,>=4.0 (from streamlit)\n",
      "  Downloading cachetools-5.3.3-py3-none-any.whl.metadata (5.3 kB)\n",
      "Requirement already satisfied: click<9,>=7.0 in c:\\users\\acer\\miniconda3\\lib\\site-packages (from streamlit) (8.1.7)\n",
      "Requirement already satisfied: numpy<2,>=1.19.3 in c:\\users\\acer\\miniconda3\\lib\\site-packages (from streamlit) (1.26.3)\n",
      "Requirement already satisfied: packaging<24,>=16.8 in c:\\users\\acer\\miniconda3\\lib\\site-packages (from streamlit) (23.1)\n",
      "Requirement already satisfied: pandas<3,>=1.3.0 in c:\\users\\acer\\miniconda3\\lib\\site-packages (from streamlit) (2.1.4)\n",
      "Requirement already satisfied: pillow<11,>=7.1.0 in c:\\users\\acer\\miniconda3\\lib\\site-packages (from streamlit) (10.2.0)\n",
      "Requirement already satisfied: protobuf<5,>=3.20 in c:\\users\\acer\\miniconda3\\lib\\site-packages (from streamlit) (4.25.3)\n",
      "Collecting pyarrow>=7.0 (from streamlit)\n",
      "  Downloading pyarrow-15.0.1-cp311-cp311-win_amd64.whl.metadata (3.1 kB)\n",
      "Requirement already satisfied: requests<3,>=2.27 in c:\\users\\acer\\miniconda3\\lib\\site-packages (from streamlit) (2.31.0)\n",
      "Requirement already satisfied: rich<14,>=10.14.0 in c:\\users\\acer\\miniconda3\\lib\\site-packages (from streamlit) (13.7.0)\n",
      "Requirement already satisfied: tenacity<9,>=8.1.0 in c:\\users\\acer\\miniconda3\\lib\\site-packages (from streamlit) (8.2.3)\n",
      "Collecting toml<2,>=0.10.1 (from streamlit)\n",
      "  Downloading toml-0.10.2-py2.py3-none-any.whl.metadata (7.1 kB)\n",
      "Requirement already satisfied: typing-extensions<5,>=4.3.0 in c:\\users\\acer\\miniconda3\\lib\\site-packages (from streamlit) (4.9.0)\n",
      "Requirement already satisfied: gitpython!=3.1.19,<4,>=3.0.7 in c:\\users\\acer\\miniconda3\\lib\\site-packages (from streamlit) (3.1.42)\n",
      "Collecting pydeck<1,>=0.8.0b4 (from streamlit)\n",
      "  Downloading pydeck-0.8.1b0-py2.py3-none-any.whl.metadata (3.9 kB)\n",
      "Requirement already satisfied: tornado<7,>=6.0.3 in c:\\users\\acer\\miniconda3\\lib\\site-packages (from streamlit) (6.3.3)\n",
      "Requirement already satisfied: watchdog>=2.1.5 in c:\\users\\acer\\miniconda3\\lib\\site-packages (from streamlit) (3.0.0)\n",
      "Requirement already satisfied: jinja2 in c:\\users\\acer\\miniconda3\\lib\\site-packages (from altair<6,>=4.0->streamlit) (3.1.3)\n",
      "Requirement already satisfied: jsonschema>=3.0 in c:\\users\\acer\\miniconda3\\lib\\site-packages (from altair<6,>=4.0->streamlit) (4.20.0)\n",
      "Collecting toolz (from altair<6,>=4.0->streamlit)\n",
      "  Downloading toolz-0.12.1-py3-none-any.whl.metadata (5.1 kB)\n",
      "Requirement already satisfied: colorama in c:\\users\\acer\\miniconda3\\lib\\site-packages (from click<9,>=7.0->streamlit) (0.4.6)\n",
      "Requirement already satisfied: gitdb<5,>=4.0.1 in c:\\users\\acer\\miniconda3\\lib\\site-packages (from gitpython!=3.1.19,<4,>=3.0.7->streamlit) (4.0.11)\n",
      "Requirement already satisfied: python-dateutil>=2.8.2 in c:\\users\\acer\\miniconda3\\lib\\site-packages (from pandas<3,>=1.3.0->streamlit) (2.8.2)\n",
      "Requirement already satisfied: pytz>=2020.1 in c:\\users\\acer\\miniconda3\\lib\\site-packages (from pandas<3,>=1.3.0->streamlit) (2023.3.post1)\n",
      "Requirement already satisfied: tzdata>=2022.1 in c:\\users\\acer\\miniconda3\\lib\\site-packages (from pandas<3,>=1.3.0->streamlit) (2023.4)\n",
      "Requirement already satisfied: charset-normalizer<4,>=2 in c:\\users\\acer\\miniconda3\\lib\\site-packages (from requests<3,>=2.27->streamlit) (2.0.4)\n",
      "Requirement already satisfied: idna<4,>=2.5 in c:\\users\\acer\\miniconda3\\lib\\site-packages (from requests<3,>=2.27->streamlit) (3.4)\n",
      "Requirement already satisfied: urllib3<3,>=1.21.1 in c:\\users\\acer\\miniconda3\\lib\\site-packages (from requests<3,>=2.27->streamlit) (1.26.18)\n",
      "Requirement already satisfied: certifi>=2017.4.17 in c:\\users\\acer\\miniconda3\\lib\\site-packages (from requests<3,>=2.27->streamlit) (2023.11.17)\n",
      "Requirement already satisfied: markdown-it-py>=2.2.0 in c:\\users\\acer\\miniconda3\\lib\\site-packages (from rich<14,>=10.14.0->streamlit) (3.0.0)\n",
      "Requirement already satisfied: pygments<3.0.0,>=2.13.0 in c:\\users\\acer\\miniconda3\\lib\\site-packages (from rich<14,>=10.14.0->streamlit) (2.17.2)\n",
      "Requirement already satisfied: smmap<6,>=3.0.1 in c:\\users\\acer\\miniconda3\\lib\\site-packages (from gitdb<5,>=4.0.1->gitpython!=3.1.19,<4,>=3.0.7->streamlit) (5.0.1)\n",
      "Requirement already satisfied: MarkupSafe>=2.0 in c:\\users\\acer\\miniconda3\\lib\\site-packages (from jinja2->altair<6,>=4.0->streamlit) (2.1.4)\n",
      "Requirement already satisfied: attrs>=22.2.0 in c:\\users\\acer\\miniconda3\\lib\\site-packages (from jsonschema>=3.0->altair<6,>=4.0->streamlit) (23.2.0)\n",
      "Requirement already satisfied: jsonschema-specifications>=2023.03.6 in c:\\users\\acer\\miniconda3\\lib\\site-packages (from jsonschema>=3.0->altair<6,>=4.0->streamlit) (2023.12.1)\n",
      "Requirement already satisfied: referencing>=0.28.4 in c:\\users\\acer\\miniconda3\\lib\\site-packages (from jsonschema>=3.0->altair<6,>=4.0->streamlit) (0.32.1)\n",
      "Requirement already satisfied: rpds-py>=0.7.1 in c:\\users\\acer\\miniconda3\\lib\\site-packages (from jsonschema>=3.0->altair<6,>=4.0->streamlit) (0.17.1)\n",
      "Requirement already satisfied: mdurl~=0.1 in c:\\users\\acer\\miniconda3\\lib\\site-packages (from markdown-it-py>=2.2.0->rich<14,>=10.14.0->streamlit) (0.1.2)\n",
      "Requirement already satisfied: six>=1.5 in c:\\users\\acer\\miniconda3\\lib\\site-packages (from python-dateutil>=2.8.2->pandas<3,>=1.3.0->streamlit) (1.16.0)\n",
      "Downloading streamlit-1.32.0-py2.py3-none-any.whl (8.1 MB)\n",
      "   ---------------------------------------- 0.0/8.1 MB ? eta -:--:--\n",
      "   ---------------------------------------- 0.0/8.1 MB ? eta -:--:--\n",
      "    --------------------------------------- 0.1/8.1 MB 1.6 MB/s eta 0:00:05\n",
      "   - -------------------------------------- 0.2/8.1 MB 1.8 MB/s eta 0:00:05\n",
      "   - -------------------------------------- 0.4/8.1 MB 2.1 MB/s eta 0:00:04\n",
      "   --- ------------------------------------ 0.7/8.1 MB 3.1 MB/s eta 0:00:03\n",
      "   ----- ---------------------------------- 1.1/8.1 MB 4.4 MB/s eta 0:00:02\n",
      "   --------- ------------------------------ 2.0/8.1 MB 6.4 MB/s eta 0:00:01\n",
      "   ------------- -------------------------- 2.7/8.1 MB 7.5 MB/s eta 0:00:01\n",
      "   ----------------- ---------------------- 3.6/8.1 MB 9.0 MB/s eta 0:00:01\n",
      "   ---------------------- ----------------- 4.6/8.1 MB 10.2 MB/s eta 0:00:01\n",
      "   --------------------------- ------------ 5.5/8.1 MB 11.3 MB/s eta 0:00:01\n",
      "   -------------------------------- ------- 6.5/8.1 MB 11.9 MB/s eta 0:00:01\n",
      "   ----------------------------------- ---- 7.1/8.1 MB 12.3 MB/s eta 0:00:01\n",
      "   ---------------------------------------  8.1/8.1 MB 12.6 MB/s eta 0:00:01\n",
      "   ---------------------------------------  8.1/8.1 MB 12.6 MB/s eta 0:00:01\n",
      "   ---------------------------------------- 8.1/8.1 MB 11.3 MB/s eta 0:00:00\n",
      "Downloading altair-5.2.0-py3-none-any.whl (996 kB)\n",
      "   ---------------------------------------- 0.0/996.9 kB ? eta -:--:--\n",
      "   ------------------------------ -------- 778.2/996.9 kB 16.3 MB/s eta 0:00:01\n",
      "   --------------------------------------- 996.9/996.9 kB 12.6 MB/s eta 0:00:00\n",
      "Downloading cachetools-5.3.3-py3-none-any.whl (9.3 kB)\n",
      "Downloading pyarrow-15.0.1-cp311-cp311-win_amd64.whl (24.8 MB)\n",
      "   ---------------------------------------- 0.0/24.8 MB ? eta -:--:--\n",
      "   - -------------------------------------- 0.9/24.8 MB 19.8 MB/s eta 0:00:02\n",
      "   --- ------------------------------------ 2.1/24.8 MB 22.6 MB/s eta 0:00:02\n",
      "   ----- ---------------------------------- 3.5/24.8 MB 27.5 MB/s eta 0:00:01\n",
      "   ------ --------------------------------- 4.3/24.8 MB 27.6 MB/s eta 0:00:01\n",
      "   -------- ------------------------------- 5.0/24.8 MB 23.1 MB/s eta 0:00:01\n",
      "   ---------- ----------------------------- 6.6/24.8 MB 23.3 MB/s eta 0:00:01\n",
      "   ----------- ---------------------------- 7.2/24.8 MB 24.3 MB/s eta 0:00:01\n",
      "   ------------- -------------------------- 8.4/24.8 MB 23.2 MB/s eta 0:00:01\n",
      "   --------------- ------------------------ 9.4/24.8 MB 23.2 MB/s eta 0:00:01\n",
      "   ----------------- ---------------------- 10.7/24.8 MB 23.4 MB/s eta 0:00:01\n",
      "   ------------------- -------------------- 11.9/24.8 MB 24.2 MB/s eta 0:00:01\n",
      "   --------------------- ------------------ 13.0/24.8 MB 23.4 MB/s eta 0:00:01\n",
      "   ----------------------- ---------------- 14.4/24.8 MB 23.4 MB/s eta 0:00:01\n",
      "   ------------------------- -------------- 15.5/24.8 MB 25.2 MB/s eta 0:00:01\n",
      "   --------------------------- ------------ 16.7/24.8 MB 25.2 MB/s eta 0:00:01\n",
      "   ----------------------------- ---------- 18.0/24.8 MB 26.2 MB/s eta 0:00:01\n",
      "   ------------------------------- -------- 19.3/24.8 MB 26.2 MB/s eta 0:00:01\n",
      "   --------------------------------- ------ 20.7/24.8 MB 27.3 MB/s eta 0:00:01\n",
      "   ----------------------------------- ---- 22.0/24.8 MB 27.3 MB/s eta 0:00:01\n",
      "   ------------------------------------- -- 23.2/24.8 MB 27.3 MB/s eta 0:00:01\n",
      "   ---------------------------------------  24.4/24.8 MB 27.3 MB/s eta 0:00:01\n",
      "   ---------------------------------------  24.8/24.8 MB 27.3 MB/s eta 0:00:01\n",
      "   ---------------------------------------  24.8/24.8 MB 27.3 MB/s eta 0:00:01\n",
      "   ---------------------------------------  24.8/24.8 MB 27.3 MB/s eta 0:00:01\n",
      "   ---------------------------------------  24.8/24.8 MB 27.3 MB/s eta 0:00:01\n",
      "   ---------------------------------------  24.8/24.8 MB 27.3 MB/s eta 0:00:01\n",
      "   ---------------------------------------- 24.8/24.8 MB 16.8 MB/s eta 0:00:00\n",
      "Downloading pydeck-0.8.1b0-py2.py3-none-any.whl (4.8 MB)\n",
      "   ---------------------------------------- 0.0/4.8 MB ? eta -:--:--\n",
      "   ------------ --------------------------- 1.5/4.8 MB 31.4 MB/s eta 0:00:01\n",
      "   ---------------------- ----------------- 2.7/4.8 MB 28.8 MB/s eta 0:00:01\n",
      "   -------------------------------- ------- 3.9/4.8 MB 27.9 MB/s eta 0:00:01\n",
      "   ---------------------------------------  4.8/4.8 MB 28.0 MB/s eta 0:00:01\n",
      "   ---------------------------------------- 4.8/4.8 MB 22.0 MB/s eta 0:00:00\n",
      "Downloading toml-0.10.2-py2.py3-none-any.whl (16 kB)\n",
      "Downloading toolz-0.12.1-py3-none-any.whl (56 kB)\n",
      "   ---------------------------------------- 0.0/56.1 kB ? eta -:--:--\n",
      "   ---------------------------------------- 56.1/56.1 kB 3.1 MB/s eta 0:00:00\n",
      "Installing collected packages: toolz, toml, pyarrow, cachetools, pydeck, altair, streamlit\n",
      "Successfully installed altair-5.2.0 cachetools-5.3.3 pyarrow-15.0.1 pydeck-0.8.1b0 streamlit-1.32.0 toml-0.10.2 toolz-0.12.1\n",
      "Note: you may need to restart the kernel to use updated packages.\n"
     ]
    }
   ],
   "source": [
    "pip install streamlit # maquina preditiva\n",
    "# pip install nltk # PLN"
   ]
  },
  {
   "cell_type": "code",
   "execution_count": 9,
   "metadata": {},
   "outputs": [],
   "source": [
    "import streamlit as st\n",
    "import nltk "
   ]
  },
  {
   "cell_type": "code",
   "execution_count": null,
   "metadata": {},
   "outputs": [],
   "source": [
    "# Criar a MP/PLN \n",
    "\n",
    "# etapa 1 - criar sistema\n",
    "# etapa 2 - criar maquina preditiva/pln\n",
    "# etapa 3 - uso prático"
   ]
  },
  {
   "cell_type": "code",
   "execution_count": 10,
   "metadata": {},
   "outputs": [],
   "source": [
    "# etapa 1 - criar sistema\n",
    "\n",
    "    #TITULO\n",
    "st.write(\"Análise de Satisfação do Cliente\")\n",
    "    #ENTRADA\n",
    "user_input = st.text_input(\"Avalie o atendimento : \")"
   ]
  },
  {
   "cell_type": "code",
   "execution_count": 16,
   "metadata": {},
   "outputs": [
    {
     "name": "stderr",
     "output_type": "stream",
     "text": [
      "[nltk_data] Downloading package vader_lexicon to\n",
      "[nltk_data]     C:\\Users\\Acer\\AppData\\Roaming\\nltk_data...\n",
      "[nltk_data]   Package vader_lexicon is already up-to-date!\n"
     ]
    }
   ],
   "source": [
    "\n",
    "# etapa 2 - criar maquina preditiva/pln\n",
    "from nltk.sentiment.vader import SentimentIntensityAnalyzer\n",
    "\n",
    "nltk.download(\"vader_lexicon\") # nltk.download('punkt')# nltk.download('stopwords')# nltk.download('mac_morpho')\n",
    "sentimento = SentimentIntensityAnalyzer()\n",
    "\n",
    "score = sentimento.polarity_scores(user_input)\n",
    "\n",
    "if score == 0:\n",
    "    st.write(\"Análise Neutra.\")\n",
    "elif score[\"neg\"] != 0:\n",
    "    st.write(\" Análise Negativa.\")\n",
    "elif score[\"pos\"] != 0:\n",
    "    st.write(\" Análise Positiva.\")\n",
    "    "
   ]
  },
  {
   "cell_type": "code",
   "execution_count": null,
   "metadata": {},
   "outputs": [],
   "source": [
    "# etapa 3 - uso prático\n",
    "\n",
    "\n",
    "\n"
   ]
  }
 ],
 "metadata": {
  "kernelspec": {
   "display_name": "base",
   "language": "python",
   "name": "python3"
  },
  "language_info": {
   "codemirror_mode": {
    "name": "ipython",
    "version": 3
   },
   "file_extension": ".py",
   "mimetype": "text/x-python",
   "name": "python",
   "nbconvert_exporter": "python",
   "pygments_lexer": "ipython3",
   "version": "3.11.5"
  }
 },
 "nbformat": 4,
 "nbformat_minor": 2
}
