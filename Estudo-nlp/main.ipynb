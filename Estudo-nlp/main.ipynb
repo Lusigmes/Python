{
 "cells": [
  {
   "cell_type": "markdown",
   "metadata": {},
   "source": [
    "# PROCESSAMENTO DE TEXTO\n",
    "### Análise de sentimentos, NLP , etc ...\n",
    "#### libs : nltk, spacy, enelvo"
   ]
  },
  {
   "cell_type": "code",
   "execution_count": 8,
   "metadata": {},
   "outputs": [
    {
     "name": "stdout",
     "output_type": "stream",
     "text": [
      "Requirement already satisfied: nltk in c:\\users\\acer\\miniconda3\\lib\\site-packages (3.8.1)\n",
      "Requirement already satisfied: click in c:\\users\\acer\\miniconda3\\lib\\site-packages (from nltk) (8.1.7)\n",
      "Requirement already satisfied: joblib in c:\\users\\acer\\miniconda3\\lib\\site-packages (from nltk) (1.3.2)\n",
      "Requirement already satisfied: regex>=2021.8.3 in c:\\users\\acer\\miniconda3\\lib\\site-packages (from nltk) (2023.12.25)\n",
      "Requirement already satisfied: tqdm in c:\\users\\acer\\miniconda3\\lib\\site-packages (from nltk) (4.65.0)\n",
      "Requirement already satisfied: colorama in c:\\users\\acer\\miniconda3\\lib\\site-packages (from click->nltk) (0.4.6)\n",
      "Requirement already satisfied: spacy in c:\\users\\acer\\miniconda3\\lib\\site-packages (3.7.4)\n",
      "Requirement already satisfied: spacy-legacy<3.1.0,>=3.0.11 in c:\\users\\acer\\miniconda3\\lib\\site-packages (from spacy) (3.0.12)\n",
      "Requirement already satisfied: spacy-loggers<2.0.0,>=1.0.0 in c:\\users\\acer\\miniconda3\\lib\\site-packages (from spacy) (1.0.5)\n",
      "Requirement already satisfied: murmurhash<1.1.0,>=0.28.0 in c:\\users\\acer\\miniconda3\\lib\\site-packages (from spacy) (1.0.10)\n",
      "Requirement already satisfied: cymem<2.1.0,>=2.0.2 in c:\\users\\acer\\miniconda3\\lib\\site-packages (from spacy) (2.0.8)\n",
      "Requirement already satisfied: preshed<3.1.0,>=3.0.2 in c:\\users\\acer\\miniconda3\\lib\\site-packages (from spacy) (3.0.9)\n",
      "Requirement already satisfied: thinc<8.3.0,>=8.2.2 in c:\\users\\acer\\miniconda3\\lib\\site-packages (from spacy) (8.2.3)\n",
      "Requirement already satisfied: wasabi<1.2.0,>=0.9.1 in c:\\users\\acer\\miniconda3\\lib\\site-packages (from spacy) (1.1.2)\n",
      "Requirement already satisfied: srsly<3.0.0,>=2.4.3 in c:\\users\\acer\\miniconda3\\lib\\site-packages (from spacy) (2.4.8)\n",
      "Requirement already satisfied: catalogue<2.1.0,>=2.0.6 in c:\\users\\acer\\miniconda3\\lib\\site-packages (from spacy) (2.0.10)\n",
      "Requirement already satisfied: weasel<0.4.0,>=0.1.0 in c:\\users\\acer\\miniconda3\\lib\\site-packages (from spacy) (0.3.4)\n",
      "Requirement already satisfied: typer<0.10.0,>=0.3.0 in c:\\users\\acer\\miniconda3\\lib\\site-packages (from spacy) (0.9.0)\n",
      "Requirement already satisfied: smart-open<7.0.0,>=5.2.1 in c:\\users\\acer\\miniconda3\\lib\\site-packages (from spacy) (6.4.0)\n",
      "Requirement already satisfied: tqdm<5.0.0,>=4.38.0 in c:\\users\\acer\\miniconda3\\lib\\site-packages (from spacy) (4.65.0)\n",
      "Requirement already satisfied: requests<3.0.0,>=2.13.0 in c:\\users\\acer\\miniconda3\\lib\\site-packages (from spacy) (2.31.0)\n",
      "Requirement already satisfied: pydantic!=1.8,!=1.8.1,<3.0.0,>=1.7.4 in c:\\users\\acer\\miniconda3\\lib\\site-packages (from spacy) (2.6.3)\n",
      "Requirement already satisfied: jinja2 in c:\\users\\acer\\miniconda3\\lib\\site-packages (from spacy) (3.1.3)\n",
      "Requirement already satisfied: setuptools in c:\\users\\acer\\miniconda3\\lib\\site-packages (from spacy) (68.0.0)\n",
      "Requirement already satisfied: packaging>=20.0 in c:\\users\\acer\\miniconda3\\lib\\site-packages (from spacy) (23.1)\n",
      "Requirement already satisfied: langcodes<4.0.0,>=3.2.0 in c:\\users\\acer\\miniconda3\\lib\\site-packages (from spacy) (3.3.0)\n",
      "Requirement already satisfied: numpy>=1.19.0 in c:\\users\\acer\\miniconda3\\lib\\site-packages (from spacy) (1.26.3)\n",
      "Requirement already satisfied: annotated-types>=0.4.0 in c:\\users\\acer\\miniconda3\\lib\\site-packages (from pydantic!=1.8,!=1.8.1,<3.0.0,>=1.7.4->spacy) (0.6.0)\n",
      "Requirement already satisfied: pydantic-core==2.16.3 in c:\\users\\acer\\miniconda3\\lib\\site-packages (from pydantic!=1.8,!=1.8.1,<3.0.0,>=1.7.4->spacy) (2.16.3)\n",
      "Requirement already satisfied: typing-extensions>=4.6.1 in c:\\users\\acer\\miniconda3\\lib\\site-packages (from pydantic!=1.8,!=1.8.1,<3.0.0,>=1.7.4->spacy) (4.9.0)\n",
      "Requirement already satisfied: charset-normalizer<4,>=2 in c:\\users\\acer\\miniconda3\\lib\\site-packages (from requests<3.0.0,>=2.13.0->spacy) (2.0.4)\n",
      "Requirement already satisfied: idna<4,>=2.5 in c:\\users\\acer\\miniconda3\\lib\\site-packages (from requests<3.0.0,>=2.13.0->spacy) (3.4)\n",
      "Requirement already satisfied: urllib3<3,>=1.21.1 in c:\\users\\acer\\miniconda3\\lib\\site-packages (from requests<3.0.0,>=2.13.0->spacy) (1.26.18)\n",
      "Requirement already satisfied: certifi>=2017.4.17 in c:\\users\\acer\\miniconda3\\lib\\site-packages (from requests<3.0.0,>=2.13.0->spacy) (2023.11.17)\n",
      "Requirement already satisfied: blis<0.8.0,>=0.7.8 in c:\\users\\acer\\miniconda3\\lib\\site-packages (from thinc<8.3.0,>=8.2.2->spacy) (0.7.11)\n",
      "Requirement already satisfied: confection<1.0.0,>=0.0.1 in c:\\users\\acer\\miniconda3\\lib\\site-packages (from thinc<8.3.0,>=8.2.2->spacy) (0.1.4)\n",
      "Requirement already satisfied: colorama in c:\\users\\acer\\miniconda3\\lib\\site-packages (from tqdm<5.0.0,>=4.38.0->spacy) (0.4.6)\n",
      "Requirement already satisfied: click<9.0.0,>=7.1.1 in c:\\users\\acer\\miniconda3\\lib\\site-packages (from typer<0.10.0,>=0.3.0->spacy) (8.1.7)\n",
      "Requirement already satisfied: cloudpathlib<0.17.0,>=0.7.0 in c:\\users\\acer\\miniconda3\\lib\\site-packages (from weasel<0.4.0,>=0.1.0->spacy) (0.16.0)\n",
      "Requirement already satisfied: MarkupSafe>=2.0 in c:\\users\\acer\\miniconda3\\lib\\site-packages (from jinja2->spacy) (2.1.4)\n"
     ]
    }
   ],
   "source": [
    "!pip install nltk \n",
    "!pip install spacy\n",
    "# !pip install enelvo\n",
    "\n"
   ]
  },
  {
   "cell_type": "code",
   "execution_count": 9,
   "metadata": {},
   "outputs": [
    {
     "name": "stdout",
     "output_type": "stream",
     "text": [
      "Collecting pt-core-news-sm==3.7.0\n",
      "  Downloading https://github.com/explosion/spacy-models/releases/download/pt_core_news_sm-3.7.0/pt_core_news_sm-3.7.0-py3-none-any.whl (13.0 MB)\n",
      "     ---------------------------------------- 0.0/13.0 MB ? eta -:--:--\n",
      "     --------------------------------------- 0.0/13.0 MB 660.6 kB/s eta 0:00:20\n",
      "     --------------------------------------- 0.1/13.0 MB 656.4 kB/s eta 0:00:20\n",
      "     --------------------------------------- 0.1/13.0 MB 563.7 kB/s eta 0:00:23\n",
      "     --------------------------------------- 0.1/13.0 MB 774.0 kB/s eta 0:00:17\n",
      "      -------------------------------------- 0.2/13.0 MB 807.1 kB/s eta 0:00:16\n",
      "      -------------------------------------- 0.2/13.0 MB 850.1 kB/s eta 0:00:15\n",
      "      -------------------------------------- 0.3/13.0 MB 787.7 kB/s eta 0:00:17\n",
      "      -------------------------------------- 0.3/13.0 MB 855.7 kB/s eta 0:00:15\n",
      "     - ------------------------------------- 0.3/13.0 MB 807.1 kB/s eta 0:00:16\n",
      "     - ------------------------------------- 0.4/13.0 MB 791.2 kB/s eta 0:00:16\n",
      "     - ------------------------------------- 0.4/13.0 MB 846.3 kB/s eta 0:00:15\n",
      "     - ------------------------------------- 0.5/13.0 MB 819.9 kB/s eta 0:00:16\n",
      "     - ------------------------------------- 0.5/13.0 MB 814.9 kB/s eta 0:00:16\n",
      "     - ------------------------------------- 0.5/13.0 MB 840.7 kB/s eta 0:00:15\n",
      "     - ------------------------------------- 0.5/13.0 MB 760.2 kB/s eta 0:00:17\n",
      "     - ------------------------------------- 0.6/13.0 MB 770.1 kB/s eta 0:00:17\n",
      "     - ------------------------------------- 0.6/13.0 MB 786.7 kB/s eta 0:00:16\n",
      "     - ------------------------------------- 0.7/13.0 MB 807.1 kB/s eta 0:00:16\n",
      "     -- ------------------------------------ 0.7/13.0 MB 798.7 kB/s eta 0:00:16\n",
      "     -- ------------------------------------ 0.7/13.0 MB 754.1 kB/s eta 0:00:17\n",
      "     -- ------------------------------------ 0.7/13.0 MB 761.7 kB/s eta 0:00:17\n",
      "     -- ------------------------------------ 0.8/13.0 MB 807.1 kB/s eta 0:00:16\n",
      "     -- ------------------------------------ 0.9/13.0 MB 807.4 kB/s eta 0:00:15\n",
      "     -- ------------------------------------ 0.9/13.0 MB 840.3 kB/s eta 0:00:15\n",
      "     --- ----------------------------------- 1.0/13.0 MB 894.7 kB/s eta 0:00:14\n",
      "     --- ----------------------------------- 1.0/13.0 MB 894.7 kB/s eta 0:00:14\n",
      "     --- ----------------------------------- 1.1/13.0 MB 846.4 kB/s eta 0:00:15\n",
      "     --- ----------------------------------- 1.2/13.0 MB 884.3 kB/s eta 0:00:14\n",
      "     --- ----------------------------------- 1.2/13.0 MB 899.7 kB/s eta 0:00:14\n",
      "     ---- ---------------------------------- 1.3/13.0 MB 957.7 kB/s eta 0:00:13\n",
      "     ---- ---------------------------------- 1.4/13.0 MB 954.1 kB/s eta 0:00:13\n",
      "     ---- ---------------------------------- 1.4/13.0 MB 952.2 kB/s eta 0:00:13\n",
      "     ---- ----------------------------------- 1.5/13.0 MB 1.0 MB/s eta 0:00:12\n",
      "     ----- ---------------------------------- 1.7/13.0 MB 1.1 MB/s eta 0:00:11\n",
      "     ----- ---------------------------------- 1.8/13.0 MB 1.1 MB/s eta 0:00:11\n",
      "     ----- ---------------------------------- 1.9/13.0 MB 1.1 MB/s eta 0:00:11\n",
      "     ------ --------------------------------- 2.0/13.0 MB 1.1 MB/s eta 0:00:10\n",
      "     ------ --------------------------------- 2.0/13.0 MB 1.1 MB/s eta 0:00:10\n",
      "     ------ --------------------------------- 2.2/13.0 MB 1.2 MB/s eta 0:00:09\n",
      "     ------- -------------------------------- 2.3/13.0 MB 1.3 MB/s eta 0:00:09\n",
      "     ------- -------------------------------- 2.4/13.0 MB 1.3 MB/s eta 0:00:09\n",
      "     ------- -------------------------------- 2.5/13.0 MB 1.3 MB/s eta 0:00:09\n",
      "     -------- ------------------------------- 2.6/13.0 MB 1.3 MB/s eta 0:00:08\n",
      "     -------- ------------------------------- 2.7/13.0 MB 1.3 MB/s eta 0:00:08\n",
      "     -------- ------------------------------- 2.8/13.0 MB 1.3 MB/s eta 0:00:08\n",
      "     --------- ------------------------------ 3.0/13.0 MB 1.4 MB/s eta 0:00:08\n",
      "     --------- ------------------------------ 3.1/13.0 MB 1.4 MB/s eta 0:00:08\n",
      "     --------- ------------------------------ 3.2/13.0 MB 1.4 MB/s eta 0:00:07\n",
      "     ---------- ----------------------------- 3.3/13.0 MB 1.5 MB/s eta 0:00:07\n",
      "     ---------- ----------------------------- 3.5/13.0 MB 1.5 MB/s eta 0:00:07\n",
      "     ----------- ---------------------------- 3.6/13.0 MB 1.5 MB/s eta 0:00:07\n",
      "     ----------- ---------------------------- 3.7/13.0 MB 1.5 MB/s eta 0:00:06\n",
      "     ------------ --------------------------- 3.9/13.0 MB 1.6 MB/s eta 0:00:06\n",
      "     ------------ --------------------------- 4.0/13.0 MB 1.6 MB/s eta 0:00:06\n",
      "     ------------ --------------------------- 4.0/13.0 MB 1.6 MB/s eta 0:00:06\n",
      "     ------------ --------------------------- 4.1/13.0 MB 1.6 MB/s eta 0:00:06\n",
      "     ------------- -------------------------- 4.3/13.0 MB 1.6 MB/s eta 0:00:06\n",
      "     ------------- -------------------------- 4.4/13.0 MB 1.6 MB/s eta 0:00:06\n",
      "     ------------- -------------------------- 4.5/13.0 MB 1.6 MB/s eta 0:00:06\n",
      "     -------------- ------------------------- 4.6/13.0 MB 1.7 MB/s eta 0:00:06\n",
      "     -------------- ------------------------- 4.8/13.0 MB 1.7 MB/s eta 0:00:05\n",
      "     --------------- ------------------------ 5.0/13.0 MB 1.7 MB/s eta 0:00:05\n",
      "     --------------- ------------------------ 5.1/13.0 MB 1.7 MB/s eta 0:00:05\n",
      "     ---------------- ----------------------- 5.2/13.0 MB 1.8 MB/s eta 0:00:05\n",
      "     ---------------- ----------------------- 5.4/13.0 MB 1.8 MB/s eta 0:00:05\n",
      "     ----------------- ---------------------- 5.5/13.0 MB 1.8 MB/s eta 0:00:05\n",
      "     ----------------- ---------------------- 5.6/13.0 MB 1.8 MB/s eta 0:00:05\n",
      "     ----------------- ---------------------- 5.7/13.0 MB 1.8 MB/s eta 0:00:04\n",
      "     ------------------ --------------------- 5.9/13.0 MB 1.8 MB/s eta 0:00:04\n",
      "     ------------------ --------------------- 6.1/13.0 MB 1.9 MB/s eta 0:00:04\n",
      "     ------------------ --------------------- 6.2/13.0 MB 1.9 MB/s eta 0:00:04\n",
      "     ------------------- -------------------- 6.2/13.0 MB 1.8 MB/s eta 0:00:04\n",
      "     ------------------- -------------------- 6.3/13.0 MB 1.9 MB/s eta 0:00:04\n",
      "     ------------------- -------------------- 6.4/13.0 MB 1.9 MB/s eta 0:00:04\n",
      "     -------------------- ------------------- 6.5/13.0 MB 1.9 MB/s eta 0:00:04\n",
      "     -------------------- ------------------- 6.6/13.0 MB 1.9 MB/s eta 0:00:04\n",
      "     -------------------- ------------------- 6.8/13.0 MB 1.9 MB/s eta 0:00:04\n",
      "     --------------------- ------------------ 6.9/13.0 MB 1.9 MB/s eta 0:00:04\n",
      "     --------------------- ------------------ 7.0/13.0 MB 1.9 MB/s eta 0:00:04\n",
      "     --------------------- ------------------ 7.1/13.0 MB 1.9 MB/s eta 0:00:04\n",
      "     ---------------------- ----------------- 7.3/13.0 MB 1.9 MB/s eta 0:00:03\n",
      "     ---------------------- ----------------- 7.4/13.0 MB 1.9 MB/s eta 0:00:03\n",
      "     ---------------------- ----------------- 7.5/13.0 MB 1.9 MB/s eta 0:00:03\n",
      "     ----------------------- ---------------- 7.7/13.0 MB 2.0 MB/s eta 0:00:03\n",
      "     ----------------------- ---------------- 7.7/13.0 MB 2.0 MB/s eta 0:00:03\n",
      "     ------------------------ --------------- 7.8/13.0 MB 2.0 MB/s eta 0:00:03\n",
      "     ------------------------ --------------- 7.9/13.0 MB 2.0 MB/s eta 0:00:03\n",
      "     ------------------------ --------------- 8.1/13.0 MB 2.0 MB/s eta 0:00:03\n",
      "     ------------------------- -------------- 8.3/13.0 MB 2.0 MB/s eta 0:00:03\n",
      "     -------------------------- ------------- 8.5/13.0 MB 2.0 MB/s eta 0:00:03\n",
      "     -------------------------- ------------- 8.7/13.0 MB 2.0 MB/s eta 0:00:03\n",
      "     --------------------------- ------------ 8.9/13.0 MB 2.1 MB/s eta 0:00:02\n",
      "     --------------------------- ------------ 9.0/13.0 MB 2.1 MB/s eta 0:00:02\n",
      "     ---------------------------- ----------- 9.2/13.0 MB 2.1 MB/s eta 0:00:02\n",
      "     ---------------------------- ----------- 9.3/13.0 MB 2.1 MB/s eta 0:00:02\n",
      "     ----------------------------- ---------- 9.5/13.0 MB 2.1 MB/s eta 0:00:02\n",
      "     ----------------------------- ---------- 9.6/13.0 MB 2.1 MB/s eta 0:00:02\n",
      "     ----------------------------- ---------- 9.7/13.0 MB 2.1 MB/s eta 0:00:02\n",
      "     ------------------------------ --------- 10.0/13.0 MB 2.2 MB/s eta 0:00:02\n",
      "     ------------------------------ --------- 10.0/13.0 MB 2.2 MB/s eta 0:00:02\n",
      "     ------------------------------- -------- 10.2/13.0 MB 2.2 MB/s eta 0:00:02\n",
      "     ------------------------------- -------- 10.3/13.0 MB 2.2 MB/s eta 0:00:02\n",
      "     ------------------------------- -------- 10.4/13.0 MB 2.2 MB/s eta 0:00:02\n",
      "     -------------------------------- ------- 10.4/13.0 MB 2.2 MB/s eta 0:00:02\n",
      "     -------------------------------- ------- 10.6/13.0 MB 2.3 MB/s eta 0:00:02\n",
      "     -------------------------------- ------- 10.6/13.0 MB 2.3 MB/s eta 0:00:02\n",
      "     -------------------------------- ------- 10.7/13.0 MB 2.3 MB/s eta 0:00:02\n",
      "     --------------------------------- ------ 10.8/13.0 MB 2.4 MB/s eta 0:00:01\n",
      "     --------------------------------- ------ 10.9/13.0 MB 2.4 MB/s eta 0:00:01\n",
      "     --------------------------------- ------ 11.0/13.0 MB 2.5 MB/s eta 0:00:01\n",
      "     ---------------------------------- ----- 11.1/13.0 MB 2.5 MB/s eta 0:00:01\n",
      "     ---------------------------------- ----- 11.2/13.0 MB 2.5 MB/s eta 0:00:01\n",
      "     ---------------------------------- ----- 11.2/13.0 MB 2.5 MB/s eta 0:00:01\n",
      "     ----------------------------------- ---- 11.4/13.0 MB 2.6 MB/s eta 0:00:01\n",
      "     ----------------------------------- ---- 11.5/13.0 MB 2.6 MB/s eta 0:00:01\n",
      "     ----------------------------------- ---- 11.5/13.0 MB 2.5 MB/s eta 0:00:01\n",
      "     ----------------------------------- ---- 11.5/13.0 MB 2.5 MB/s eta 0:00:01\n",
      "     ----------------------------------- ---- 11.6/13.0 MB 2.5 MB/s eta 0:00:01\n",
      "     ----------------------------------- ---- 11.6/13.0 MB 2.5 MB/s eta 0:00:01\n",
      "     ----------------------------------- ---- 11.7/13.0 MB 2.5 MB/s eta 0:00:01\n",
      "     ------------------------------------ --- 11.8/13.0 MB 2.5 MB/s eta 0:00:01\n",
      "     ------------------------------------ --- 11.8/13.0 MB 2.5 MB/s eta 0:00:01\n",
      "     ------------------------------------ --- 11.9/13.0 MB 2.5 MB/s eta 0:00:01\n",
      "     ------------------------------------- -- 12.0/13.0 MB 2.5 MB/s eta 0:00:01\n",
      "     ------------------------------------- -- 12.1/13.0 MB 2.5 MB/s eta 0:00:01\n",
      "     ------------------------------------- -- 12.2/13.0 MB 2.5 MB/s eta 0:00:01\n",
      "     ------------------------------------- -- 12.2/13.0 MB 2.5 MB/s eta 0:00:01\n",
      "     ------------------------------------- -- 12.2/13.0 MB 2.5 MB/s eta 0:00:01\n",
      "     ------------------------------------- -- 12.3/13.0 MB 2.4 MB/s eta 0:00:01\n",
      "     -------------------------------------- - 12.5/13.0 MB 2.4 MB/s eta 0:00:01\n",
      "     -------------------------------------- - 12.6/13.0 MB 2.4 MB/s eta 0:00:01\n",
      "     ---------------------------------------  12.7/13.0 MB 2.4 MB/s eta 0:00:01\n",
      "     ---------------------------------------  12.8/13.0 MB 2.4 MB/s eta 0:00:01\n",
      "     ---------------------------------------  12.9/13.0 MB 2.4 MB/s eta 0:00:01\n",
      "     ---------------------------------------  13.0/13.0 MB 2.4 MB/s eta 0:00:01\n",
      "     ---------------------------------------  13.0/13.0 MB 2.4 MB/s eta 0:00:01\n",
      "     ---------------------------------------  13.0/13.0 MB 2.4 MB/s eta 0:00:01\n",
      "     ---------------------------------------- 13.0/13.0 MB 2.4 MB/s eta 0:00:00\n",
      "Requirement already satisfied: spacy<3.8.0,>=3.7.0 in c:\\users\\acer\\miniconda3\\lib\\site-packages (from pt-core-news-sm==3.7.0) (3.7.4)\n",
      "Requirement already satisfied: spacy-legacy<3.1.0,>=3.0.11 in c:\\users\\acer\\miniconda3\\lib\\site-packages (from spacy<3.8.0,>=3.7.0->pt-core-news-sm==3.7.0) (3.0.12)\n",
      "Requirement already satisfied: spacy-loggers<2.0.0,>=1.0.0 in c:\\users\\acer\\miniconda3\\lib\\site-packages (from spacy<3.8.0,>=3.7.0->pt-core-news-sm==3.7.0) (1.0.5)\n",
      "Requirement already satisfied: murmurhash<1.1.0,>=0.28.0 in c:\\users\\acer\\miniconda3\\lib\\site-packages (from spacy<3.8.0,>=3.7.0->pt-core-news-sm==3.7.0) (1.0.10)\n",
      "Requirement already satisfied: cymem<2.1.0,>=2.0.2 in c:\\users\\acer\\miniconda3\\lib\\site-packages (from spacy<3.8.0,>=3.7.0->pt-core-news-sm==3.7.0) (2.0.8)\n",
      "Requirement already satisfied: preshed<3.1.0,>=3.0.2 in c:\\users\\acer\\miniconda3\\lib\\site-packages (from spacy<3.8.0,>=3.7.0->pt-core-news-sm==3.7.0) (3.0.9)\n",
      "Requirement already satisfied: thinc<8.3.0,>=8.2.2 in c:\\users\\acer\\miniconda3\\lib\\site-packages (from spacy<3.8.0,>=3.7.0->pt-core-news-sm==3.7.0) (8.2.3)\n",
      "Requirement already satisfied: wasabi<1.2.0,>=0.9.1 in c:\\users\\acer\\miniconda3\\lib\\site-packages (from spacy<3.8.0,>=3.7.0->pt-core-news-sm==3.7.0) (1.1.2)\n",
      "Requirement already satisfied: srsly<3.0.0,>=2.4.3 in c:\\users\\acer\\miniconda3\\lib\\site-packages (from spacy<3.8.0,>=3.7.0->pt-core-news-sm==3.7.0) (2.4.8)\n",
      "Requirement already satisfied: catalogue<2.1.0,>=2.0.6 in c:\\users\\acer\\miniconda3\\lib\\site-packages (from spacy<3.8.0,>=3.7.0->pt-core-news-sm==3.7.0) (2.0.10)\n",
      "Requirement already satisfied: weasel<0.4.0,>=0.1.0 in c:\\users\\acer\\miniconda3\\lib\\site-packages (from spacy<3.8.0,>=3.7.0->pt-core-news-sm==3.7.0) (0.3.4)\n",
      "Requirement already satisfied: typer<0.10.0,>=0.3.0 in c:\\users\\acer\\miniconda3\\lib\\site-packages (from spacy<3.8.0,>=3.7.0->pt-core-news-sm==3.7.0) (0.9.0)\n",
      "Requirement already satisfied: smart-open<7.0.0,>=5.2.1 in c:\\users\\acer\\miniconda3\\lib\\site-packages (from spacy<3.8.0,>=3.7.0->pt-core-news-sm==3.7.0) (6.4.0)\n",
      "Requirement already satisfied: tqdm<5.0.0,>=4.38.0 in c:\\users\\acer\\miniconda3\\lib\\site-packages (from spacy<3.8.0,>=3.7.0->pt-core-news-sm==3.7.0) (4.65.0)\n",
      "Requirement already satisfied: requests<3.0.0,>=2.13.0 in c:\\users\\acer\\miniconda3\\lib\\site-packages (from spacy<3.8.0,>=3.7.0->pt-core-news-sm==3.7.0) (2.31.0)\n",
      "Requirement already satisfied: pydantic!=1.8,!=1.8.1,<3.0.0,>=1.7.4 in c:\\users\\acer\\miniconda3\\lib\\site-packages (from spacy<3.8.0,>=3.7.0->pt-core-news-sm==3.7.0) (2.6.3)\n",
      "Requirement already satisfied: jinja2 in c:\\users\\acer\\miniconda3\\lib\\site-packages (from spacy<3.8.0,>=3.7.0->pt-core-news-sm==3.7.0) (3.1.3)\n",
      "Requirement already satisfied: setuptools in c:\\users\\acer\\miniconda3\\lib\\site-packages (from spacy<3.8.0,>=3.7.0->pt-core-news-sm==3.7.0) (68.0.0)\n",
      "Requirement already satisfied: packaging>=20.0 in c:\\users\\acer\\miniconda3\\lib\\site-packages (from spacy<3.8.0,>=3.7.0->pt-core-news-sm==3.7.0) (23.1)\n",
      "Requirement already satisfied: langcodes<4.0.0,>=3.2.0 in c:\\users\\acer\\miniconda3\\lib\\site-packages (from spacy<3.8.0,>=3.7.0->pt-core-news-sm==3.7.0) (3.3.0)\n",
      "Requirement already satisfied: numpy>=1.19.0 in c:\\users\\acer\\miniconda3\\lib\\site-packages (from spacy<3.8.0,>=3.7.0->pt-core-news-sm==3.7.0) (1.26.3)\n",
      "Requirement already satisfied: annotated-types>=0.4.0 in c:\\users\\acer\\miniconda3\\lib\\site-packages (from pydantic!=1.8,!=1.8.1,<3.0.0,>=1.7.4->spacy<3.8.0,>=3.7.0->pt-core-news-sm==3.7.0) (0.6.0)\n",
      "Requirement already satisfied: pydantic-core==2.16.3 in c:\\users\\acer\\miniconda3\\lib\\site-packages (from pydantic!=1.8,!=1.8.1,<3.0.0,>=1.7.4->spacy<3.8.0,>=3.7.0->pt-core-news-sm==3.7.0) (2.16.3)\n",
      "Requirement already satisfied: typing-extensions>=4.6.1 in c:\\users\\acer\\miniconda3\\lib\\site-packages (from pydantic!=1.8,!=1.8.1,<3.0.0,>=1.7.4->spacy<3.8.0,>=3.7.0->pt-core-news-sm==3.7.0) (4.9.0)\n",
      "Requirement already satisfied: charset-normalizer<4,>=2 in c:\\users\\acer\\miniconda3\\lib\\site-packages (from requests<3.0.0,>=2.13.0->spacy<3.8.0,>=3.7.0->pt-core-news-sm==3.7.0) (2.0.4)\n",
      "Requirement already satisfied: idna<4,>=2.5 in c:\\users\\acer\\miniconda3\\lib\\site-packages (from requests<3.0.0,>=2.13.0->spacy<3.8.0,>=3.7.0->pt-core-news-sm==3.7.0) (3.4)\n",
      "Requirement already satisfied: urllib3<3,>=1.21.1 in c:\\users\\acer\\miniconda3\\lib\\site-packages (from requests<3.0.0,>=2.13.0->spacy<3.8.0,>=3.7.0->pt-core-news-sm==3.7.0) (1.26.18)\n",
      "Requirement already satisfied: certifi>=2017.4.17 in c:\\users\\acer\\miniconda3\\lib\\site-packages (from requests<3.0.0,>=2.13.0->spacy<3.8.0,>=3.7.0->pt-core-news-sm==3.7.0) (2023.11.17)\n",
      "Requirement already satisfied: blis<0.8.0,>=0.7.8 in c:\\users\\acer\\miniconda3\\lib\\site-packages (from thinc<8.3.0,>=8.2.2->spacy<3.8.0,>=3.7.0->pt-core-news-sm==3.7.0) (0.7.11)\n",
      "Requirement already satisfied: confection<1.0.0,>=0.0.1 in c:\\users\\acer\\miniconda3\\lib\\site-packages (from thinc<8.3.0,>=8.2.2->spacy<3.8.0,>=3.7.0->pt-core-news-sm==3.7.0) (0.1.4)\n",
      "Requirement already satisfied: colorama in c:\\users\\acer\\miniconda3\\lib\\site-packages (from tqdm<5.0.0,>=4.38.0->spacy<3.8.0,>=3.7.0->pt-core-news-sm==3.7.0) (0.4.6)\n",
      "Requirement already satisfied: click<9.0.0,>=7.1.1 in c:\\users\\acer\\miniconda3\\lib\\site-packages (from typer<0.10.0,>=0.3.0->spacy<3.8.0,>=3.7.0->pt-core-news-sm==3.7.0) (8.1.7)\n",
      "Requirement already satisfied: cloudpathlib<0.17.0,>=0.7.0 in c:\\users\\acer\\miniconda3\\lib\\site-packages (from weasel<0.4.0,>=0.1.0->spacy<3.8.0,>=3.7.0->pt-core-news-sm==3.7.0) (0.16.0)\n",
      "Requirement already satisfied: MarkupSafe>=2.0 in c:\\users\\acer\\miniconda3\\lib\\site-packages (from jinja2->spacy<3.8.0,>=3.7.0->pt-core-news-sm==3.7.0) (2.1.4)\n",
      "\u001b[38;5;2m✔ Download and installation successful\u001b[0m\n",
      "You can now load the package via spacy.load('pt_core_news_sm')\n"
     ]
    }
   ],
   "source": [
    "!python -m spacy download pt_core_news_sm\n"
   ]
  },
  {
   "cell_type": "code",
   "execution_count": 10,
   "metadata": {},
   "outputs": [
    {
     "name": "stderr",
     "output_type": "stream",
     "text": [
      "[nltk_data] Downloading package vader_lexicon to\n",
      "[nltk_data]     C:\\Users\\Acer\\AppData\\Roaming\\nltk_data...\n",
      "[nltk_data]   Package vader_lexicon is already up-to-date!\n",
      "[nltk_data] Downloading package punkt to\n",
      "[nltk_data]     C:\\Users\\Acer\\AppData\\Roaming\\nltk_data...\n",
      "[nltk_data]   Package punkt is already up-to-date!\n",
      "[nltk_data] Downloading package stopwords to\n",
      "[nltk_data]     C:\\Users\\Acer\\AppData\\Roaming\\nltk_data...\n",
      "[nltk_data]   Package stopwords is already up-to-date!\n",
      "[nltk_data] Downloading package mac_morpho to\n",
      "[nltk_data]     C:\\Users\\Acer\\AppData\\Roaming\\nltk_data...\n",
      "[nltk_data]   Package mac_morpho is already up-to-date!\n"
     ]
    },
    {
     "data": {
      "text/plain": [
       "True"
      ]
     },
     "execution_count": 10,
     "metadata": {},
     "output_type": "execute_result"
    }
   ],
   "source": [
    "import nltk\n",
    "from nltk.sentiment import SentimentIntensityAnalyzer\n",
    "nltk.download('vader_lexicon')\n",
    "nltk.download('punkt')\n",
    "nltk.download('stopwords')\n",
    "nltk.download('mac_morpho')\n",
    "\n",
    "# nltk.download('all')"
   ]
  },
  {
   "cell_type": "code",
   "execution_count": 11,
   "metadata": {},
   "outputs": [
    {
     "name": "stdout",
     "output_type": "stream",
     "text": [
      "{'neg': 0.0, 'neu': 0.606, 'pos': 0.394, 'compound': 0.8934}\n"
     ]
    }
   ],
   "source": [
    "txt = \"I'm , I'm smoking I'm going to work tomorrow, I'm drinking beer, I like wearing blue, I like white chocolate, I like snickers I also love snickers\"\n",
    "sia = SentimentIntensityAnalyzer()\n",
    "score = sia.polarity_scores(txt)\n",
    "print(score)\n"
   ]
  },
  {
   "cell_type": "code",
   "execution_count": null,
   "metadata": {},
   "outputs": [],
   "source": [
    "\"\"\"\n",
    "\"\"\"\n",
    "# texto = \"pra mim foi chocante o momento que eu descobri que não é normal pensar em se matar tipo pessoas normais não cogitam suicidio nunca\" \n"
   ]
  },
  {
   "cell_type": "code",
   "execution_count": 12,
   "metadata": {},
   "outputs": [
    {
     "name": "stdout",
     "output_type": "stream",
     "text": [
      "['às', 'até', 'com', 'como', 'da', 'das', 'de', 'dela', 'delas', 'dele', 'deles', 'depois', 'do', 'dos', 'e', 'é', 'ela', 'elas', 'ele', 'eles', 'em', 'entre', 'era', 'eram', 'éramos', 'essa', 'essas', 'esse', 'esses', 'esta', 'está', 'estamos', 'estão', 'estar', 'estas', 'estava', 'estavam', 'estávamos', 'este', 'esteja', 'estejam', 'estejamos', 'estes', 'esteve', 'estive', 'estivemos', 'estiver', 'estivera', 'estiveram', 'estivéramos', 'estiverem', 'estivermos', 'estivesse', 'estivessem', 'estivéssemos', 'estou', 'eu', 'foi', 'fomos', 'for', 'fora', 'foram', 'fôramos', 'forem', 'formos', 'fosse', 'fossem', 'fôssemos', 'fui', 'há', 'haja', 'hajam', 'hajamos', 'hão', 'havemos', 'haver', 'hei', 'houve', 'houvemos', 'houver', 'houvera', 'houverá', 'houveram', 'houvéramos', 'houverão', 'houverei', 'houverem', 'houveremos', 'houveria', 'houveriam', 'houveríamos', 'houvermos', 'houvesse', 'houvessem', 'houvéssemos', 'isso', 'isto', 'já', 'lhe', 'lhes', 'mais', 'mas', 'me', 'mesmo', 'meu', 'meus', 'minha', 'minhas', 'muito', 'na', 'não', 'nas', 'nem', 'no', 'nos', 'nós', 'nossa', 'nossas', 'nosso', 'nossos', 'num', 'numa', 'o', 'os', 'ou', 'para', 'pela', 'pelas', 'pelo', 'pelos', 'por', 'qual', 'quando', 'que', 'quem', 'são', 'se', 'seja', 'sejam', 'sejamos', 'sem', 'ser', 'será', 'serão', 'serei', 'seremos', 'seria', 'seriam', 'seríamos', 'seu', 'seus', 'só', 'somos', 'sou', 'sua', 'suas', 'também', 'te', 'tem', 'tém', 'temos', 'tenha', 'tenham', 'tenhamos', 'tenho', 'terá', 'terão', 'terei', 'teremos', 'teria', 'teriam', 'teríamos', 'teu', 'teus', 'teve', 'tinha', 'tinham', 'tínhamos', 'tive', 'tivemos', 'tiver', 'tivera', 'tiveram', 'tivéramos', 'tiverem', 'tivermos', 'tivesse', 'tivessem', 'tivéssemos', 'tu', 'tua', 'tuas', 'um', 'uma', 'você', 'vocês', 'vos']\n"
     ]
    }
   ],
   "source": [
    "stopwords = nltk.corpus.stopwords.words('portuguese')\n",
    "print(stopwords[10:])\n",
    "\n"
   ]
  },
  {
   "cell_type": "code",
   "execution_count": 13,
   "metadata": {},
   "outputs": [
    {
     "data": {
      "text/plain": [
       "[('Jersei', 'N'), ('atinge', 'V'), ('média', 'N'), ...]"
      ]
     },
     "execution_count": 13,
     "metadata": {},
     "output_type": "execute_result"
    }
   ],
   "source": [
    "## tags MacMorpho\n",
    "nltk.corpus.mac_morpho.words()\n",
    "nltk.corpus.mac_morpho.tagged_words()\n"
   ]
  },
  {
   "cell_type": "code",
   "execution_count": 15,
   "metadata": {},
   "outputs": [
    {
     "name": "stdout",
     "output_type": "stream",
     "text": [
      "Apple está querendo comprar uma startup do Reino Unido por 100 milhões de dólares \n",
      "\n",
      "Carros autônomos empurram a responsabilidade do seguro para os fabricantes.São Francisco considera banir os robôs de entrega que andam pelas calçadas \n",
      "\n",
      "Londres é a maior cidade do Reino Unido \n",
      "\n"
     ]
    }
   ],
   "source": [
    "import spacy\n",
    "from spacy.lang.pt.examples import sentences\n",
    "for words in sentences:\n",
    "    print(words, '\\n')"
   ]
  },
  {
   "cell_type": "code",
   "execution_count": 16,
   "metadata": {},
   "outputs": [
    {
     "name": "stdout",
     "output_type": "stream",
     "text": [
      "Apple está querendo comprar uma startup do Reino Unido por 100 milhões de dólares\n"
     ]
    }
   ],
   "source": [
    "#crriando objeto spacy\n",
    "pln = spacy.load(\"pt_core_news_sm\")\n",
    "doc = pln(sentences[0])\n",
    "print(doc.text)\n",
    "    "
   ]
  },
  {
   "cell_type": "code",
   "execution_count": 17,
   "metadata": {},
   "outputs": [
    {
     "name": "stdout",
     "output_type": "stream",
     "text": [
      "Apple Apple\n",
      "está estar\n",
      "querendo querer\n",
      "comprar comprar\n",
      "uma um\n",
      "startup startup\n",
      "do de o\n",
      "Reino Reino\n",
      "Unido Unido\n",
      "por por\n",
      "100 100\n",
      "milhões milhão\n",
      "de de\n",
      "dólares dólar\n"
     ]
    }
   ],
   "source": [
    "for token in doc: #lemmatiza\n",
    "    print(token.text, token.lemma_)"
   ]
  },
  {
   "cell_type": "code",
   "execution_count": 18,
   "metadata": {},
   "outputs": [
    {
     "name": "stdout",
     "output_type": "stream",
     "text": [
      "Apple ORG\n",
      "Reino Unido LOC\n"
     ]
    }
   ],
   "source": [
    "for ent in doc.ents: #rotula\n",
    "    print(ent.text, ent.label_)\n",
    "    "
   ]
  },
  {
   "cell_type": "code",
   "execution_count": 19,
   "metadata": {},
   "outputs": [
    {
     "name": "stdout",
     "output_type": "stream",
     "text": [
      "Apple PROPN\n",
      "está AUX\n",
      "querendo VERB\n",
      "comprar VERB\n",
      "uma DET\n",
      "startup NOUN\n",
      "do ADP\n",
      "Reino PROPN\n",
      "Unido PROPN\n",
      "por ADP\n",
      "100 NUM\n",
      "milhões NUM\n",
      "de ADP\n",
      "dólares NOUN\n"
     ]
    }
   ],
   "source": [
    "for verb in doc: #classifica\n",
    "    print(verb.text, verb.pos_)\n",
    "    "
   ]
  },
  {
   "cell_type": "code",
   "execution_count": 20,
   "metadata": {},
   "outputs": [
    {
     "name": "stdout",
     "output_type": "stream",
     "text": [
      "Apple --> nsubj\n",
      "está --> aux\n",
      "querendo --> ROOT\n",
      "comprar --> xcomp\n",
      "uma --> det\n",
      "startup --> obj\n",
      "do --> case\n",
      "Reino --> nmod\n",
      "Unido --> flat:name\n",
      "por --> case\n",
      "100 --> obl\n",
      "milhões --> flat\n",
      "de --> case\n",
      "dólares --> nmod\n"
     ]
    }
   ],
   "source": [
    "for token in doc:\n",
    "    print(token.text, \"-->\", token.dep_)"
   ]
  },
  {
   "cell_type": "code",
   "execution_count": 21,
   "metadata": {},
   "outputs": [
    {
     "data": {
      "text/html": [
       "<span class=\"tex2jax_ignore\"><svg xmlns=\"http://www.w3.org/2000/svg\" xmlns:xlink=\"http://www.w3.org/1999/xlink\" xml:lang=\"pt\" id=\"1d2b813fd1a54bab9a1841fb7a60b433-0\" class=\"displacy\" width=\"2500\" height=\"399.5\" direction=\"ltr\" style=\"max-width: none; height: 399.5px; color: #000000; background: #ffffff; font-family: Arial; direction: ltr\">\n",
       "<text class=\"displacy-token\" fill=\"currentColor\" text-anchor=\"middle\" y=\"309.5\">\n",
       "    <tspan class=\"displacy-word\" fill=\"currentColor\" x=\"50\">Apple</tspan>\n",
       "    <tspan class=\"displacy-tag\" dy=\"2em\" fill=\"currentColor\" x=\"50\">PROPN</tspan>\n",
       "</text>\n",
       "\n",
       "<text class=\"displacy-token\" fill=\"currentColor\" text-anchor=\"middle\" y=\"309.5\">\n",
       "    <tspan class=\"displacy-word\" fill=\"currentColor\" x=\"225\">está</tspan>\n",
       "    <tspan class=\"displacy-tag\" dy=\"2em\" fill=\"currentColor\" x=\"225\">AUX</tspan>\n",
       "</text>\n",
       "\n",
       "<text class=\"displacy-token\" fill=\"currentColor\" text-anchor=\"middle\" y=\"309.5\">\n",
       "    <tspan class=\"displacy-word\" fill=\"currentColor\" x=\"400\">querendo</tspan>\n",
       "    <tspan class=\"displacy-tag\" dy=\"2em\" fill=\"currentColor\" x=\"400\">VERB</tspan>\n",
       "</text>\n",
       "\n",
       "<text class=\"displacy-token\" fill=\"currentColor\" text-anchor=\"middle\" y=\"309.5\">\n",
       "    <tspan class=\"displacy-word\" fill=\"currentColor\" x=\"575\">comprar</tspan>\n",
       "    <tspan class=\"displacy-tag\" dy=\"2em\" fill=\"currentColor\" x=\"575\">VERB</tspan>\n",
       "</text>\n",
       "\n",
       "<text class=\"displacy-token\" fill=\"currentColor\" text-anchor=\"middle\" y=\"309.5\">\n",
       "    <tspan class=\"displacy-word\" fill=\"currentColor\" x=\"750\">uma</tspan>\n",
       "    <tspan class=\"displacy-tag\" dy=\"2em\" fill=\"currentColor\" x=\"750\">DET</tspan>\n",
       "</text>\n",
       "\n",
       "<text class=\"displacy-token\" fill=\"currentColor\" text-anchor=\"middle\" y=\"309.5\">\n",
       "    <tspan class=\"displacy-word\" fill=\"currentColor\" x=\"925\">startup</tspan>\n",
       "    <tspan class=\"displacy-tag\" dy=\"2em\" fill=\"currentColor\" x=\"925\">NOUN</tspan>\n",
       "</text>\n",
       "\n",
       "<text class=\"displacy-token\" fill=\"currentColor\" text-anchor=\"middle\" y=\"309.5\">\n",
       "    <tspan class=\"displacy-word\" fill=\"currentColor\" x=\"1100\">do</tspan>\n",
       "    <tspan class=\"displacy-tag\" dy=\"2em\" fill=\"currentColor\" x=\"1100\">ADP</tspan>\n",
       "</text>\n",
       "\n",
       "<text class=\"displacy-token\" fill=\"currentColor\" text-anchor=\"middle\" y=\"309.5\">\n",
       "    <tspan class=\"displacy-word\" fill=\"currentColor\" x=\"1275\">Reino</tspan>\n",
       "    <tspan class=\"displacy-tag\" dy=\"2em\" fill=\"currentColor\" x=\"1275\">PROPN</tspan>\n",
       "</text>\n",
       "\n",
       "<text class=\"displacy-token\" fill=\"currentColor\" text-anchor=\"middle\" y=\"309.5\">\n",
       "    <tspan class=\"displacy-word\" fill=\"currentColor\" x=\"1450\">Unido</tspan>\n",
       "    <tspan class=\"displacy-tag\" dy=\"2em\" fill=\"currentColor\" x=\"1450\">PROPN</tspan>\n",
       "</text>\n",
       "\n",
       "<text class=\"displacy-token\" fill=\"currentColor\" text-anchor=\"middle\" y=\"309.5\">\n",
       "    <tspan class=\"displacy-word\" fill=\"currentColor\" x=\"1625\">por</tspan>\n",
       "    <tspan class=\"displacy-tag\" dy=\"2em\" fill=\"currentColor\" x=\"1625\">ADP</tspan>\n",
       "</text>\n",
       "\n",
       "<text class=\"displacy-token\" fill=\"currentColor\" text-anchor=\"middle\" y=\"309.5\">\n",
       "    <tspan class=\"displacy-word\" fill=\"currentColor\" x=\"1800\">100</tspan>\n",
       "    <tspan class=\"displacy-tag\" dy=\"2em\" fill=\"currentColor\" x=\"1800\">NUM</tspan>\n",
       "</text>\n",
       "\n",
       "<text class=\"displacy-token\" fill=\"currentColor\" text-anchor=\"middle\" y=\"309.5\">\n",
       "    <tspan class=\"displacy-word\" fill=\"currentColor\" x=\"1975\">milhões</tspan>\n",
       "    <tspan class=\"displacy-tag\" dy=\"2em\" fill=\"currentColor\" x=\"1975\">NUM</tspan>\n",
       "</text>\n",
       "\n",
       "<text class=\"displacy-token\" fill=\"currentColor\" text-anchor=\"middle\" y=\"309.5\">\n",
       "    <tspan class=\"displacy-word\" fill=\"currentColor\" x=\"2150\">de</tspan>\n",
       "    <tspan class=\"displacy-tag\" dy=\"2em\" fill=\"currentColor\" x=\"2150\">ADP</tspan>\n",
       "</text>\n",
       "\n",
       "<text class=\"displacy-token\" fill=\"currentColor\" text-anchor=\"middle\" y=\"309.5\">\n",
       "    <tspan class=\"displacy-word\" fill=\"currentColor\" x=\"2325\">dólares</tspan>\n",
       "    <tspan class=\"displacy-tag\" dy=\"2em\" fill=\"currentColor\" x=\"2325\">NOUN</tspan>\n",
       "</text>\n",
       "\n",
       "<g class=\"displacy-arrow\">\n",
       "    <path class=\"displacy-arc\" id=\"arrow-1d2b813fd1a54bab9a1841fb7a60b433-0-0\" stroke-width=\"2px\" d=\"M70,264.5 C70,89.5 395.0,89.5 395.0,264.5\" fill=\"none\" stroke=\"currentColor\"/>\n",
       "    <text dy=\"1.25em\" style=\"font-size: 0.8em; letter-spacing: 1px\">\n",
       "        <textPath xlink:href=\"#arrow-1d2b813fd1a54bab9a1841fb7a60b433-0-0\" class=\"displacy-label\" startOffset=\"50%\" side=\"left\" fill=\"currentColor\" text-anchor=\"middle\">nsubj</textPath>\n",
       "    </text>\n",
       "    <path class=\"displacy-arrowhead\" d=\"M70,266.5 L62,254.5 78,254.5\" fill=\"currentColor\"/>\n",
       "</g>\n",
       "\n",
       "<g class=\"displacy-arrow\">\n",
       "    <path class=\"displacy-arc\" id=\"arrow-1d2b813fd1a54bab9a1841fb7a60b433-0-1\" stroke-width=\"2px\" d=\"M245,264.5 C245,177.0 390.0,177.0 390.0,264.5\" fill=\"none\" stroke=\"currentColor\"/>\n",
       "    <text dy=\"1.25em\" style=\"font-size: 0.8em; letter-spacing: 1px\">\n",
       "        <textPath xlink:href=\"#arrow-1d2b813fd1a54bab9a1841fb7a60b433-0-1\" class=\"displacy-label\" startOffset=\"50%\" side=\"left\" fill=\"currentColor\" text-anchor=\"middle\">aux</textPath>\n",
       "    </text>\n",
       "    <path class=\"displacy-arrowhead\" d=\"M245,266.5 L237,254.5 253,254.5\" fill=\"currentColor\"/>\n",
       "</g>\n",
       "\n",
       "<g class=\"displacy-arrow\">\n",
       "    <path class=\"displacy-arc\" id=\"arrow-1d2b813fd1a54bab9a1841fb7a60b433-0-2\" stroke-width=\"2px\" d=\"M420,264.5 C420,177.0 565.0,177.0 565.0,264.5\" fill=\"none\" stroke=\"currentColor\"/>\n",
       "    <text dy=\"1.25em\" style=\"font-size: 0.8em; letter-spacing: 1px\">\n",
       "        <textPath xlink:href=\"#arrow-1d2b813fd1a54bab9a1841fb7a60b433-0-2\" class=\"displacy-label\" startOffset=\"50%\" side=\"left\" fill=\"currentColor\" text-anchor=\"middle\">xcomp</textPath>\n",
       "    </text>\n",
       "    <path class=\"displacy-arrowhead\" d=\"M565.0,266.5 L573.0,254.5 557.0,254.5\" fill=\"currentColor\"/>\n",
       "</g>\n",
       "\n",
       "<g class=\"displacy-arrow\">\n",
       "    <path class=\"displacy-arc\" id=\"arrow-1d2b813fd1a54bab9a1841fb7a60b433-0-3\" stroke-width=\"2px\" d=\"M770,264.5 C770,177.0 915.0,177.0 915.0,264.5\" fill=\"none\" stroke=\"currentColor\"/>\n",
       "    <text dy=\"1.25em\" style=\"font-size: 0.8em; letter-spacing: 1px\">\n",
       "        <textPath xlink:href=\"#arrow-1d2b813fd1a54bab9a1841fb7a60b433-0-3\" class=\"displacy-label\" startOffset=\"50%\" side=\"left\" fill=\"currentColor\" text-anchor=\"middle\">det</textPath>\n",
       "    </text>\n",
       "    <path class=\"displacy-arrowhead\" d=\"M770,266.5 L762,254.5 778,254.5\" fill=\"currentColor\"/>\n",
       "</g>\n",
       "\n",
       "<g class=\"displacy-arrow\">\n",
       "    <path class=\"displacy-arc\" id=\"arrow-1d2b813fd1a54bab9a1841fb7a60b433-0-4\" stroke-width=\"2px\" d=\"M595,264.5 C595,89.5 920.0,89.5 920.0,264.5\" fill=\"none\" stroke=\"currentColor\"/>\n",
       "    <text dy=\"1.25em\" style=\"font-size: 0.8em; letter-spacing: 1px\">\n",
       "        <textPath xlink:href=\"#arrow-1d2b813fd1a54bab9a1841fb7a60b433-0-4\" class=\"displacy-label\" startOffset=\"50%\" side=\"left\" fill=\"currentColor\" text-anchor=\"middle\">obj</textPath>\n",
       "    </text>\n",
       "    <path class=\"displacy-arrowhead\" d=\"M920.0,266.5 L928.0,254.5 912.0,254.5\" fill=\"currentColor\"/>\n",
       "</g>\n",
       "\n",
       "<g class=\"displacy-arrow\">\n",
       "    <path class=\"displacy-arc\" id=\"arrow-1d2b813fd1a54bab9a1841fb7a60b433-0-5\" stroke-width=\"2px\" d=\"M1120,264.5 C1120,177.0 1265.0,177.0 1265.0,264.5\" fill=\"none\" stroke=\"currentColor\"/>\n",
       "    <text dy=\"1.25em\" style=\"font-size: 0.8em; letter-spacing: 1px\">\n",
       "        <textPath xlink:href=\"#arrow-1d2b813fd1a54bab9a1841fb7a60b433-0-5\" class=\"displacy-label\" startOffset=\"50%\" side=\"left\" fill=\"currentColor\" text-anchor=\"middle\">case</textPath>\n",
       "    </text>\n",
       "    <path class=\"displacy-arrowhead\" d=\"M1120,266.5 L1112,254.5 1128,254.5\" fill=\"currentColor\"/>\n",
       "</g>\n",
       "\n",
       "<g class=\"displacy-arrow\">\n",
       "    <path class=\"displacy-arc\" id=\"arrow-1d2b813fd1a54bab9a1841fb7a60b433-0-6\" stroke-width=\"2px\" d=\"M945,264.5 C945,89.5 1270.0,89.5 1270.0,264.5\" fill=\"none\" stroke=\"currentColor\"/>\n",
       "    <text dy=\"1.25em\" style=\"font-size: 0.8em; letter-spacing: 1px\">\n",
       "        <textPath xlink:href=\"#arrow-1d2b813fd1a54bab9a1841fb7a60b433-0-6\" class=\"displacy-label\" startOffset=\"50%\" side=\"left\" fill=\"currentColor\" text-anchor=\"middle\">nmod</textPath>\n",
       "    </text>\n",
       "    <path class=\"displacy-arrowhead\" d=\"M1270.0,266.5 L1278.0,254.5 1262.0,254.5\" fill=\"currentColor\"/>\n",
       "</g>\n",
       "\n",
       "<g class=\"displacy-arrow\">\n",
       "    <path class=\"displacy-arc\" id=\"arrow-1d2b813fd1a54bab9a1841fb7a60b433-0-7\" stroke-width=\"2px\" d=\"M1295,264.5 C1295,177.0 1440.0,177.0 1440.0,264.5\" fill=\"none\" stroke=\"currentColor\"/>\n",
       "    <text dy=\"1.25em\" style=\"font-size: 0.8em; letter-spacing: 1px\">\n",
       "        <textPath xlink:href=\"#arrow-1d2b813fd1a54bab9a1841fb7a60b433-0-7\" class=\"displacy-label\" startOffset=\"50%\" side=\"left\" fill=\"currentColor\" text-anchor=\"middle\">flat:name</textPath>\n",
       "    </text>\n",
       "    <path class=\"displacy-arrowhead\" d=\"M1440.0,266.5 L1448.0,254.5 1432.0,254.5\" fill=\"currentColor\"/>\n",
       "</g>\n",
       "\n",
       "<g class=\"displacy-arrow\">\n",
       "    <path class=\"displacy-arc\" id=\"arrow-1d2b813fd1a54bab9a1841fb7a60b433-0-8\" stroke-width=\"2px\" d=\"M1645,264.5 C1645,177.0 1790.0,177.0 1790.0,264.5\" fill=\"none\" stroke=\"currentColor\"/>\n",
       "    <text dy=\"1.25em\" style=\"font-size: 0.8em; letter-spacing: 1px\">\n",
       "        <textPath xlink:href=\"#arrow-1d2b813fd1a54bab9a1841fb7a60b433-0-8\" class=\"displacy-label\" startOffset=\"50%\" side=\"left\" fill=\"currentColor\" text-anchor=\"middle\">case</textPath>\n",
       "    </text>\n",
       "    <path class=\"displacy-arrowhead\" d=\"M1645,266.5 L1637,254.5 1653,254.5\" fill=\"currentColor\"/>\n",
       "</g>\n",
       "\n",
       "<g class=\"displacy-arrow\">\n",
       "    <path class=\"displacy-arc\" id=\"arrow-1d2b813fd1a54bab9a1841fb7a60b433-0-9\" stroke-width=\"2px\" d=\"M595,264.5 C595,2.0 1800.0,2.0 1800.0,264.5\" fill=\"none\" stroke=\"currentColor\"/>\n",
       "    <text dy=\"1.25em\" style=\"font-size: 0.8em; letter-spacing: 1px\">\n",
       "        <textPath xlink:href=\"#arrow-1d2b813fd1a54bab9a1841fb7a60b433-0-9\" class=\"displacy-label\" startOffset=\"50%\" side=\"left\" fill=\"currentColor\" text-anchor=\"middle\">obl</textPath>\n",
       "    </text>\n",
       "    <path class=\"displacy-arrowhead\" d=\"M1800.0,266.5 L1808.0,254.5 1792.0,254.5\" fill=\"currentColor\"/>\n",
       "</g>\n",
       "\n",
       "<g class=\"displacy-arrow\">\n",
       "    <path class=\"displacy-arc\" id=\"arrow-1d2b813fd1a54bab9a1841fb7a60b433-0-10\" stroke-width=\"2px\" d=\"M1820,264.5 C1820,177.0 1965.0,177.0 1965.0,264.5\" fill=\"none\" stroke=\"currentColor\"/>\n",
       "    <text dy=\"1.25em\" style=\"font-size: 0.8em; letter-spacing: 1px\">\n",
       "        <textPath xlink:href=\"#arrow-1d2b813fd1a54bab9a1841fb7a60b433-0-10\" class=\"displacy-label\" startOffset=\"50%\" side=\"left\" fill=\"currentColor\" text-anchor=\"middle\">flat</textPath>\n",
       "    </text>\n",
       "    <path class=\"displacy-arrowhead\" d=\"M1965.0,266.5 L1973.0,254.5 1957.0,254.5\" fill=\"currentColor\"/>\n",
       "</g>\n",
       "\n",
       "<g class=\"displacy-arrow\">\n",
       "    <path class=\"displacy-arc\" id=\"arrow-1d2b813fd1a54bab9a1841fb7a60b433-0-11\" stroke-width=\"2px\" d=\"M2170,264.5 C2170,177.0 2315.0,177.0 2315.0,264.5\" fill=\"none\" stroke=\"currentColor\"/>\n",
       "    <text dy=\"1.25em\" style=\"font-size: 0.8em; letter-spacing: 1px\">\n",
       "        <textPath xlink:href=\"#arrow-1d2b813fd1a54bab9a1841fb7a60b433-0-11\" class=\"displacy-label\" startOffset=\"50%\" side=\"left\" fill=\"currentColor\" text-anchor=\"middle\">case</textPath>\n",
       "    </text>\n",
       "    <path class=\"displacy-arrowhead\" d=\"M2170,266.5 L2162,254.5 2178,254.5\" fill=\"currentColor\"/>\n",
       "</g>\n",
       "\n",
       "<g class=\"displacy-arrow\">\n",
       "    <path class=\"displacy-arc\" id=\"arrow-1d2b813fd1a54bab9a1841fb7a60b433-0-12\" stroke-width=\"2px\" d=\"M1820,264.5 C1820,89.5 2320.0,89.5 2320.0,264.5\" fill=\"none\" stroke=\"currentColor\"/>\n",
       "    <text dy=\"1.25em\" style=\"font-size: 0.8em; letter-spacing: 1px\">\n",
       "        <textPath xlink:href=\"#arrow-1d2b813fd1a54bab9a1841fb7a60b433-0-12\" class=\"displacy-label\" startOffset=\"50%\" side=\"left\" fill=\"currentColor\" text-anchor=\"middle\">nmod</textPath>\n",
       "    </text>\n",
       "    <path class=\"displacy-arrowhead\" d=\"M2320.0,266.5 L2328.0,254.5 2312.0,254.5\" fill=\"currentColor\"/>\n",
       "</g>\n",
       "</svg></span>"
      ],
      "text/plain": [
       "<IPython.core.display.HTML object>"
      ]
     },
     "metadata": {},
     "output_type": "display_data"
    }
   ],
   "source": [
    "from spacy import displacy\n",
    "displacy.render(doc)"
   ]
  },
  {
   "cell_type": "code",
   "execution_count": null,
   "metadata": {},
   "outputs": [],
   "source": []
  }
 ],
 "metadata": {
  "kernelspec": {
   "display_name": ".venv",
   "language": "python",
   "name": "python3"
  },
  "language_info": {
   "codemirror_mode": {
    "name": "ipython",
    "version": 3
   },
   "file_extension": ".py",
   "mimetype": "text/x-python",
   "name": "python",
   "nbconvert_exporter": "python",
   "pygments_lexer": "ipython3",
   "version": "3.11.5"
  }
 },
 "nbformat": 4,
 "nbformat_minor": 2
}
